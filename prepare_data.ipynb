{
 "cells": [
  {
   "cell_type": "code",
   "execution_count": 5,
   "metadata": {},
   "outputs": [],
   "source": [
    "import os\n",
    "import cv2\n",
    "from PIL import Image\n",
    "import numpy as np\n",
    "from tqdm import tqdm"
   ]
  },
  {
   "cell_type": "code",
   "execution_count": 6,
   "metadata": {
    "tags": []
   },
   "outputs": [],
   "source": [
    "def blur_and_save(path, save_name, blur_level):\n",
    "    files = list()\n",
    "    for r, d, f in os.walk(path):\n",
    "        for file in f:\n",
    "            if (\".png\" in file) or (\".jpg\" in file) or (\".jpeg\" in file):\n",
    "                files.append(os.path.join(r, file))\n",
    " \n",
    "    precise_data = np.ndarray(shape=(len(files), 256, 256, 3), dtype=np.float32)\n",
    "    blurred_data = np.ndarray(shape=(len(files), 256, 256, 3), dtype=np.float32)\n",
    "    for i in tqdm(range(len(files))):\n",
    "        try:        \n",
    "            img = np.array(Image.open(files[i]))\n",
    "            img = img[(img.shape[0] // 2 - 256 // 2):(img.shape[0] // 2 + 256 // 2),\n",
    "                      (img.shape[1] // 2 - 256 // 2):(img.shape[1] // 2 + 256 // 2), :]\n",
    "            blurred = cv2.blur(img, (blur_level, blur_level))\n",
    "                        \n",
    "            precise_data[i] = img\n",
    "            blurred_data[i] = blurred\n",
    "        except Exception as e:\n",
    "            print(e) \n",
    "    \n",
    "    np.save(f\"../data/{save_name}_precise_{len(files)}.npy\", precise_data)\n",
    "    np.save(f\"../data/{save_name}_blurred_{len(files)}.npy\", blurred_data)"
   ]
  },
  {
   "cell_type": "code",
   "execution_count": 7,
   "metadata": {
    "tags": [
     "outputPrepend"
    ]
   },
   "outputs": [
    {
     "name": "stderr",
     "output_type": "stream",
     "text": [
      "  7%|█████▋                                                                         | 72/1000 [00:00<00:06, 139.42it/s]"
     ]
    },
    {
     "name": "stdout",
     "output_type": "stream",
     "text": [
      "too many indices for array\n"
     ]
    },
    {
     "name": "stderr",
     "output_type": "stream",
     "text": [
      " 28%|█████████████████████▊                                                        | 279/1000 [00:02<00:06, 113.19it/s]"
     ]
    },
    {
     "name": "stdout",
     "output_type": "stream",
     "text": [
      "too many indices for array\n"
     ]
    },
    {
     "name": "stderr",
     "output_type": "stream",
     "text": [
      "100%|█████████████████████████████████████████████████████████████████████████████| 1000/1000 [00:09<00:00, 107.29it/s]\n",
      "100%|███████████████████████████████████████████████████████████████████████████████| 600/600 [00:03<00:00, 159.45it/s]\n"
     ]
    }
   ],
   "source": [
    "blur_and_save(\"D:/dataset/train\", \"train_data\", blur_level=14)\n",
    "blur_and_save(\"D:/dataset/test\", \"test_data\", blur_level=14)"
   ]
  }
 ],
 "metadata": {
  "kernelspec": {
   "display_name": "Python 3",
   "language": "python",
   "name": "python3"
  },
  "language_info": {
   "codemirror_mode": {
    "name": "ipython",
    "version": 3
   },
   "file_extension": ".py",
   "mimetype": "text/x-python",
   "name": "python",
   "nbconvert_exporter": "python",
   "pygments_lexer": "ipython3",
   "version": "3.8.5"
  }
 },
 "nbformat": 4,
 "nbformat_minor": 2
}
